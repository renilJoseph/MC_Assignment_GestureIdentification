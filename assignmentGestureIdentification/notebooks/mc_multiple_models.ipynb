{
  "nbformat": 4,
  "nbformat_minor": 0,
  "metadata": {
    "colab": {
      "name": "mc_multiple_models.ipynb",
      "provenance": [],
      "collapsed_sections": [],
      "toc_visible": true
    },
    "kernelspec": {
      "name": "python3",
      "display_name": "Python 3"
    }
  },
  "cells": [
    {
      "cell_type": "markdown",
      "metadata": {
        "id": "c7aJQeIxhSwE",
        "colab_type": "text"
      },
      "source": [
        "## MC Gesture Recognition"
      ]
    },
    {
      "cell_type": "code",
      "metadata": {
        "id": "tB2LjuuPTrYT",
        "colab_type": "code",
        "colab": {}
      },
      "source": [
        "import pandas as pd\n",
        "\n",
        "from sklearn import preprocessing\n",
        "from sklearn import metrics\n",
        "from sklearn.model_selection import train_test_split\n",
        "from sklearn.ensemble import RandomForestClassifier\n",
        "from sklearn.linear_model import LogisticRegression\n",
        "from sklearn.ensemble import ExtraTreesClassifier\n",
        "from sklearn.ensemble import GradientBoostingClassifier\n",
        "from sklearn.ensemble import VotingClassifier\n",
        "from sklearn.svm import SVC\n",
        "from sklearn.discriminant_analysis import LinearDiscriminantAnalysis\n",
        "from sklearn.model_selection import cross_validate\n",
        "from sklearn.feature_selection import SelectFromModel\n",
        "\n",
        "from joblib import dump, load"
      ],
      "execution_count": 0,
      "outputs": []
    },
    {
      "cell_type": "code",
      "metadata": {
        "id": "c6xA30jAUc1i",
        "colab_type": "code",
        "outputId": "7961055d-67c3-4fcf-aa04-4183aa090d47",
        "colab": {
          "base_uri": "https://localhost:8080/",
          "height": 273
        }
      },
      "source": [
        "! wget -Nq 'https://raw.githubusercontent.com/renilJoseph/MC_Assignment_GestureIdentification/master/agg_data.csv'\n",
        "#! wget -Nq 'https://raw.githubusercontent.com/renilJoseph/MC_Assignment_GestureIdentification/master/merged_data.csv'\n",
        "df = pd.read_csv('agg_data.csv')\n",
        "#Check num columns\n",
        "print(df.shape)\n",
        "df.head()"
      ],
      "execution_count": 2,
      "outputs": [
        {
          "output_type": "stream",
          "text": [
            "(415, 314)\n"
          ],
          "name": "stdout"
        },
        {
          "output_type": "execute_result",
          "data": {
            "text/html": [
              "<div>\n",
              "<style scoped>\n",
              "    .dataframe tbody tr th:only-of-type {\n",
              "        vertical-align: middle;\n",
              "    }\n",
              "\n",
              "    .dataframe tbody tr th {\n",
              "        vertical-align: top;\n",
              "    }\n",
              "\n",
              "    .dataframe thead th {\n",
              "        text-align: right;\n",
              "    }\n",
              "</style>\n",
              "<table border=\"1\" class=\"dataframe\">\n",
              "  <thead>\n",
              "    <tr style=\"text-align: right;\">\n",
              "      <th></th>\n",
              "      <th>vid_id</th>\n",
              "      <th>score_overall_mean</th>\n",
              "      <th>score_overall_std</th>\n",
              "      <th>score_overall_amin</th>\n",
              "      <th>score_overall_amax</th>\n",
              "      <th>score_overall_kurt</th>\n",
              "      <th>score_overall_skew</th>\n",
              "      <th>nose_score_mean</th>\n",
              "      <th>nose_score_std</th>\n",
              "      <th>nose_score_amin</th>\n",
              "      <th>nose_score_amax</th>\n",
              "      <th>nose_score_kurt</th>\n",
              "      <th>nose_score_skew</th>\n",
              "      <th>nose_x_mean</th>\n",
              "      <th>nose_x_std</th>\n",
              "      <th>nose_x_amin</th>\n",
              "      <th>nose_x_amax</th>\n",
              "      <th>nose_x_kurt</th>\n",
              "      <th>nose_x_skew</th>\n",
              "      <th>nose_y_mean</th>\n",
              "      <th>nose_y_std</th>\n",
              "      <th>nose_y_amin</th>\n",
              "      <th>nose_y_amax</th>\n",
              "      <th>nose_y_kurt</th>\n",
              "      <th>nose_y_skew</th>\n",
              "      <th>leftEye_score_mean</th>\n",
              "      <th>leftEye_score_std</th>\n",
              "      <th>leftEye_score_amin</th>\n",
              "      <th>leftEye_score_amax</th>\n",
              "      <th>leftEye_score_kurt</th>\n",
              "      <th>leftEye_score_skew</th>\n",
              "      <th>leftEye_x_mean</th>\n",
              "      <th>leftEye_x_std</th>\n",
              "      <th>leftEye_x_amin</th>\n",
              "      <th>leftEye_x_amax</th>\n",
              "      <th>leftEye_x_kurt</th>\n",
              "      <th>leftEye_x_skew</th>\n",
              "      <th>leftEye_y_mean</th>\n",
              "      <th>leftEye_y_std</th>\n",
              "      <th>leftEye_y_amin</th>\n",
              "      <th>...</th>\n",
              "      <th>rightKnee_y_amax</th>\n",
              "      <th>rightKnee_y_kurt</th>\n",
              "      <th>rightKnee_y_skew</th>\n",
              "      <th>leftAnkle_score_mean</th>\n",
              "      <th>leftAnkle_score_std</th>\n",
              "      <th>leftAnkle_score_amin</th>\n",
              "      <th>leftAnkle_score_amax</th>\n",
              "      <th>leftAnkle_score_kurt</th>\n",
              "      <th>leftAnkle_score_skew</th>\n",
              "      <th>leftAnkle_x_mean</th>\n",
              "      <th>leftAnkle_x_std</th>\n",
              "      <th>leftAnkle_x_amin</th>\n",
              "      <th>leftAnkle_x_amax</th>\n",
              "      <th>leftAnkle_x_kurt</th>\n",
              "      <th>leftAnkle_x_skew</th>\n",
              "      <th>leftAnkle_y_mean</th>\n",
              "      <th>leftAnkle_y_std</th>\n",
              "      <th>leftAnkle_y_amin</th>\n",
              "      <th>leftAnkle_y_amax</th>\n",
              "      <th>leftAnkle_y_kurt</th>\n",
              "      <th>leftAnkle_y_skew</th>\n",
              "      <th>rightAnkle_score_mean</th>\n",
              "      <th>rightAnkle_score_std</th>\n",
              "      <th>rightAnkle_score_amin</th>\n",
              "      <th>rightAnkle_score_amax</th>\n",
              "      <th>rightAnkle_score_kurt</th>\n",
              "      <th>rightAnkle_score_skew</th>\n",
              "      <th>rightAnkle_x_mean</th>\n",
              "      <th>rightAnkle_x_std</th>\n",
              "      <th>rightAnkle_x_amin</th>\n",
              "      <th>rightAnkle_x_amax</th>\n",
              "      <th>rightAnkle_x_kurt</th>\n",
              "      <th>rightAnkle_x_skew</th>\n",
              "      <th>rightAnkle_y_mean</th>\n",
              "      <th>rightAnkle_y_std</th>\n",
              "      <th>rightAnkle_y_amin</th>\n",
              "      <th>rightAnkle_y_amax</th>\n",
              "      <th>rightAnkle_y_kurt</th>\n",
              "      <th>rightAnkle_y_skew</th>\n",
              "      <th>type</th>\n",
              "    </tr>\n",
              "  </thead>\n",
              "  <tbody>\n",
              "    <tr>\n",
              "      <th>0</th>\n",
              "      <td>0</td>\n",
              "      <td>0.924542</td>\n",
              "      <td>0.009734</td>\n",
              "      <td>0.903812</td>\n",
              "      <td>0.941532</td>\n",
              "      <td>-1.069618</td>\n",
              "      <td>-0.094263</td>\n",
              "      <td>0.999623</td>\n",
              "      <td>0.000374</td>\n",
              "      <td>0.996954</td>\n",
              "      <td>0.999938</td>\n",
              "      <td>25.948714</td>\n",
              "      <td>-4.493033</td>\n",
              "      <td>-594.306323</td>\n",
              "      <td>14.186974</td>\n",
              "      <td>-616.144126</td>\n",
              "      <td>-562.105126</td>\n",
              "      <td>-0.885329</td>\n",
              "      <td>0.511757</td>\n",
              "      <td>264.755487</td>\n",
              "      <td>20.978431</td>\n",
              "      <td>211.232493</td>\n",
              "      <td>290.606517</td>\n",
              "      <td>-1.174224</td>\n",
              "      <td>-0.453479</td>\n",
              "      <td>0.999975</td>\n",
              "      <td>0.000019</td>\n",
              "      <td>0.999905</td>\n",
              "      <td>0.999993</td>\n",
              "      <td>4.710506</td>\n",
              "      <td>-2.142918</td>\n",
              "      <td>-561.288788</td>\n",
              "      <td>12.813013</td>\n",
              "      <td>-587.047587</td>\n",
              "      <td>-532.455177</td>\n",
              "      <td>-0.600858</td>\n",
              "      <td>0.196490</td>\n",
              "      <td>226.044462</td>\n",
              "      <td>21.165453</td>\n",
              "      <td>169.355469</td>\n",
              "      <td>...</td>\n",
              "      <td>1078.129096</td>\n",
              "      <td>0.212720</td>\n",
              "      <td>-0.396384</td>\n",
              "      <td>0.787298</td>\n",
              "      <td>0.101603</td>\n",
              "      <td>0.557715</td>\n",
              "      <td>0.976936</td>\n",
              "      <td>-0.677431</td>\n",
              "      <td>-0.108322</td>\n",
              "      <td>-613.887527</td>\n",
              "      <td>18.823947</td>\n",
              "      <td>-636.811761</td>\n",
              "      <td>-561.523626</td>\n",
              "      <td>-0.894968</td>\n",
              "      <td>0.679417</td>\n",
              "      <td>1242.511694</td>\n",
              "      <td>23.277902</td>\n",
              "      <td>1176.998478</td>\n",
              "      <td>1270.500644</td>\n",
              "      <td>-0.488747</td>\n",
              "      <td>-0.848680</td>\n",
              "      <td>0.503132</td>\n",
              "      <td>0.097474</td>\n",
              "      <td>0.307590</td>\n",
              "      <td>0.703325</td>\n",
              "      <td>-1.038708</td>\n",
              "      <td>0.027250</td>\n",
              "      <td>-581.705119</td>\n",
              "      <td>30.121973</td>\n",
              "      <td>-670.526368</td>\n",
              "      <td>-480.299357</td>\n",
              "      <td>2.870869</td>\n",
              "      <td>1.043343</td>\n",
              "      <td>1226.472542</td>\n",
              "      <td>43.362531</td>\n",
              "      <td>1029.246450</td>\n",
              "      <td>1261.348705</td>\n",
              "      <td>11.256338</td>\n",
              "      <td>-3.138566</td>\n",
              "      <td>COMMUNICATE</td>\n",
              "    </tr>\n",
              "    <tr>\n",
              "      <th>1</th>\n",
              "      <td>1</td>\n",
              "      <td>0.975678</td>\n",
              "      <td>0.005077</td>\n",
              "      <td>0.960819</td>\n",
              "      <td>0.984514</td>\n",
              "      <td>-0.734473</td>\n",
              "      <td>-0.179723</td>\n",
              "      <td>0.999858</td>\n",
              "      <td>0.000107</td>\n",
              "      <td>0.999439</td>\n",
              "      <td>0.999950</td>\n",
              "      <td>2.977167</td>\n",
              "      <td>-1.791727</td>\n",
              "      <td>-731.476389</td>\n",
              "      <td>13.219975</td>\n",
              "      <td>-756.349668</td>\n",
              "      <td>-704.355076</td>\n",
              "      <td>-1.133285</td>\n",
              "      <td>0.009233</td>\n",
              "      <td>319.022872</td>\n",
              "      <td>4.782174</td>\n",
              "      <td>308.214171</td>\n",
              "      <td>329.399762</td>\n",
              "      <td>-0.431989</td>\n",
              "      <td>-0.370869</td>\n",
              "      <td>0.999967</td>\n",
              "      <td>0.000015</td>\n",
              "      <td>0.999921</td>\n",
              "      <td>0.999987</td>\n",
              "      <td>0.395981</td>\n",
              "      <td>-0.986457</td>\n",
              "      <td>-694.591843</td>\n",
              "      <td>13.563072</td>\n",
              "      <td>-739.151095</td>\n",
              "      <td>-668.823398</td>\n",
              "      <td>0.161852</td>\n",
              "      <td>-0.505561</td>\n",
              "      <td>291.499942</td>\n",
              "      <td>4.298494</td>\n",
              "      <td>280.883990</td>\n",
              "      <td>...</td>\n",
              "      <td>1383.397267</td>\n",
              "      <td>-0.016273</td>\n",
              "      <td>0.473127</td>\n",
              "      <td>0.953317</td>\n",
              "      <td>0.013011</td>\n",
              "      <td>0.908230</td>\n",
              "      <td>0.973762</td>\n",
              "      <td>0.756638</td>\n",
              "      <td>-0.981520</td>\n",
              "      <td>-562.923621</td>\n",
              "      <td>11.264662</td>\n",
              "      <td>-588.637394</td>\n",
              "      <td>-536.127591</td>\n",
              "      <td>-0.674126</td>\n",
              "      <td>-0.034706</td>\n",
              "      <td>1708.417425</td>\n",
              "      <td>5.464382</td>\n",
              "      <td>1698.382491</td>\n",
              "      <td>1721.315982</td>\n",
              "      <td>-0.674021</td>\n",
              "      <td>0.470730</td>\n",
              "      <td>0.832059</td>\n",
              "      <td>0.065854</td>\n",
              "      <td>0.659138</td>\n",
              "      <td>0.945943</td>\n",
              "      <td>-0.792795</td>\n",
              "      <td>-0.208521</td>\n",
              "      <td>-867.219755</td>\n",
              "      <td>14.044414</td>\n",
              "      <td>-899.290319</td>\n",
              "      <td>-839.513740</td>\n",
              "      <td>-0.915625</td>\n",
              "      <td>-0.052779</td>\n",
              "      <td>1676.101800</td>\n",
              "      <td>6.928823</td>\n",
              "      <td>1660.215210</td>\n",
              "      <td>1698.115783</td>\n",
              "      <td>1.327429</td>\n",
              "      <td>0.784031</td>\n",
              "      <td>COMMUNICATE</td>\n",
              "    </tr>\n",
              "    <tr>\n",
              "      <th>2</th>\n",
              "      <td>2</td>\n",
              "      <td>0.969402</td>\n",
              "      <td>0.007790</td>\n",
              "      <td>0.925032</td>\n",
              "      <td>0.979215</td>\n",
              "      <td>8.900604</td>\n",
              "      <td>-2.427046</td>\n",
              "      <td>0.999809</td>\n",
              "      <td>0.000056</td>\n",
              "      <td>0.999642</td>\n",
              "      <td>0.999909</td>\n",
              "      <td>0.302725</td>\n",
              "      <td>-0.712581</td>\n",
              "      <td>-309.534332</td>\n",
              "      <td>6.085619</td>\n",
              "      <td>-329.169425</td>\n",
              "      <td>-295.618711</td>\n",
              "      <td>0.262002</td>\n",
              "      <td>-0.565722</td>\n",
              "      <td>152.894271</td>\n",
              "      <td>3.340848</td>\n",
              "      <td>148.956943</td>\n",
              "      <td>161.953866</td>\n",
              "      <td>0.521890</td>\n",
              "      <td>1.145198</td>\n",
              "      <td>0.999954</td>\n",
              "      <td>0.000027</td>\n",
              "      <td>0.999837</td>\n",
              "      <td>0.999990</td>\n",
              "      <td>3.185505</td>\n",
              "      <td>-1.648614</td>\n",
              "      <td>-296.091557</td>\n",
              "      <td>6.186804</td>\n",
              "      <td>-314.835610</td>\n",
              "      <td>-279.476360</td>\n",
              "      <td>0.204055</td>\n",
              "      <td>-0.090061</td>\n",
              "      <td>141.214723</td>\n",
              "      <td>3.002162</td>\n",
              "      <td>137.480935</td>\n",
              "      <td>...</td>\n",
              "      <td>510.556970</td>\n",
              "      <td>-0.938555</td>\n",
              "      <td>0.509783</td>\n",
              "      <td>0.990677</td>\n",
              "      <td>0.003192</td>\n",
              "      <td>0.978772</td>\n",
              "      <td>0.996258</td>\n",
              "      <td>0.950654</td>\n",
              "      <td>-0.825282</td>\n",
              "      <td>-298.352813</td>\n",
              "      <td>5.744417</td>\n",
              "      <td>-311.721027</td>\n",
              "      <td>-286.185913</td>\n",
              "      <td>-0.538606</td>\n",
              "      <td>-0.319827</td>\n",
              "      <td>596.747069</td>\n",
              "      <td>3.058837</td>\n",
              "      <td>588.309285</td>\n",
              "      <td>604.728538</td>\n",
              "      <td>-0.243445</td>\n",
              "      <td>0.119347</td>\n",
              "      <td>0.996584</td>\n",
              "      <td>0.001230</td>\n",
              "      <td>0.993010</td>\n",
              "      <td>0.998624</td>\n",
              "      <td>0.024556</td>\n",
              "      <td>-0.626827</td>\n",
              "      <td>-325.350050</td>\n",
              "      <td>5.433540</td>\n",
              "      <td>-339.798101</td>\n",
              "      <td>-313.614149</td>\n",
              "      <td>-0.460369</td>\n",
              "      <td>-0.396154</td>\n",
              "      <td>600.748579</td>\n",
              "      <td>2.293214</td>\n",
              "      <td>596.936117</td>\n",
              "      <td>605.882417</td>\n",
              "      <td>-0.814317</td>\n",
              "      <td>0.286643</td>\n",
              "      <td>COMMUNICATE</td>\n",
              "    </tr>\n",
              "    <tr>\n",
              "      <th>3</th>\n",
              "      <td>3</td>\n",
              "      <td>0.752685</td>\n",
              "      <td>0.007609</td>\n",
              "      <td>0.735594</td>\n",
              "      <td>0.772238</td>\n",
              "      <td>-0.473247</td>\n",
              "      <td>0.097008</td>\n",
              "      <td>0.999793</td>\n",
              "      <td>0.000107</td>\n",
              "      <td>0.999534</td>\n",
              "      <td>0.999946</td>\n",
              "      <td>-0.819191</td>\n",
              "      <td>-0.583172</td>\n",
              "      <td>-486.433177</td>\n",
              "      <td>5.213434</td>\n",
              "      <td>-499.367127</td>\n",
              "      <td>-473.352346</td>\n",
              "      <td>-0.140897</td>\n",
              "      <td>-0.325264</td>\n",
              "      <td>247.872443</td>\n",
              "      <td>3.982467</td>\n",
              "      <td>237.873535</td>\n",
              "      <td>254.670767</td>\n",
              "      <td>0.030412</td>\n",
              "      <td>-0.386125</td>\n",
              "      <td>0.999956</td>\n",
              "      <td>0.000021</td>\n",
              "      <td>0.999900</td>\n",
              "      <td>0.999990</td>\n",
              "      <td>-0.395601</td>\n",
              "      <td>-0.411503</td>\n",
              "      <td>-471.895729</td>\n",
              "      <td>5.438637</td>\n",
              "      <td>-486.645007</td>\n",
              "      <td>-460.365463</td>\n",
              "      <td>-0.196261</td>\n",
              "      <td>-0.387455</td>\n",
              "      <td>232.150239</td>\n",
              "      <td>3.925520</td>\n",
              "      <td>222.834555</td>\n",
              "      <td>...</td>\n",
              "      <td>738.938619</td>\n",
              "      <td>122.909052</td>\n",
              "      <td>-10.525939</td>\n",
              "      <td>0.056366</td>\n",
              "      <td>0.030352</td>\n",
              "      <td>0.011842</td>\n",
              "      <td>0.167232</td>\n",
              "      <td>1.021433</td>\n",
              "      <td>1.072907</td>\n",
              "      <td>-418.183518</td>\n",
              "      <td>26.819681</td>\n",
              "      <td>-572.966542</td>\n",
              "      <td>-371.411174</td>\n",
              "      <td>9.902993</td>\n",
              "      <td>-1.351144</td>\n",
              "      <td>699.456808</td>\n",
              "      <td>68.804527</td>\n",
              "      <td>557.444972</td>\n",
              "      <td>750.794033</td>\n",
              "      <td>-0.202525</td>\n",
              "      <td>-1.333540</td>\n",
              "      <td>0.026810</td>\n",
              "      <td>0.014150</td>\n",
              "      <td>0.005797</td>\n",
              "      <td>0.083691</td>\n",
              "      <td>1.097307</td>\n",
              "      <td>0.894265</td>\n",
              "      <td>-436.450438</td>\n",
              "      <td>34.976217</td>\n",
              "      <td>-606.576236</td>\n",
              "      <td>-372.409311</td>\n",
              "      <td>14.545175</td>\n",
              "      <td>-3.846180</td>\n",
              "      <td>728.403102</td>\n",
              "      <td>20.075894</td>\n",
              "      <td>629.987327</td>\n",
              "      <td>746.729009</td>\n",
              "      <td>12.646077</td>\n",
              "      <td>-3.255890</td>\n",
              "      <td>COMMUNICATE</td>\n",
              "    </tr>\n",
              "    <tr>\n",
              "      <th>4</th>\n",
              "      <td>4</td>\n",
              "      <td>0.969285</td>\n",
              "      <td>0.004278</td>\n",
              "      <td>0.958349</td>\n",
              "      <td>0.978510</td>\n",
              "      <td>-0.502803</td>\n",
              "      <td>-0.197075</td>\n",
              "      <td>0.999668</td>\n",
              "      <td>0.000150</td>\n",
              "      <td>0.999230</td>\n",
              "      <td>0.999859</td>\n",
              "      <td>1.319410</td>\n",
              "      <td>-1.278984</td>\n",
              "      <td>-931.460045</td>\n",
              "      <td>17.420712</td>\n",
              "      <td>-967.067972</td>\n",
              "      <td>-910.424914</td>\n",
              "      <td>-0.987915</td>\n",
              "      <td>-0.754913</td>\n",
              "      <td>471.194418</td>\n",
              "      <td>14.758870</td>\n",
              "      <td>449.340765</td>\n",
              "      <td>504.369185</td>\n",
              "      <td>-1.204544</td>\n",
              "      <td>0.223127</td>\n",
              "      <td>0.999976</td>\n",
              "      <td>0.000010</td>\n",
              "      <td>0.999956</td>\n",
              "      <td>0.999990</td>\n",
              "      <td>-1.298748</td>\n",
              "      <td>-0.350395</td>\n",
              "      <td>-903.405895</td>\n",
              "      <td>14.084049</td>\n",
              "      <td>-937.527230</td>\n",
              "      <td>-884.488073</td>\n",
              "      <td>-0.524083</td>\n",
              "      <td>-0.839221</td>\n",
              "      <td>444.564440</td>\n",
              "      <td>13.997899</td>\n",
              "      <td>421.752948</td>\n",
              "      <td>...</td>\n",
              "      <td>1596.240198</td>\n",
              "      <td>-0.638621</td>\n",
              "      <td>0.455126</td>\n",
              "      <td>0.914790</td>\n",
              "      <td>0.031211</td>\n",
              "      <td>0.783697</td>\n",
              "      <td>0.964939</td>\n",
              "      <td>4.102687</td>\n",
              "      <td>-1.109586</td>\n",
              "      <td>-1047.242654</td>\n",
              "      <td>83.391724</td>\n",
              "      <td>-1174.794940</td>\n",
              "      <td>-962.682950</td>\n",
              "      <td>-1.790572</td>\n",
              "      <td>-0.431325</td>\n",
              "      <td>1895.959820</td>\n",
              "      <td>8.039840</td>\n",
              "      <td>1882.658737</td>\n",
              "      <td>1913.382052</td>\n",
              "      <td>-1.219995</td>\n",
              "      <td>0.097742</td>\n",
              "      <td>0.878661</td>\n",
              "      <td>0.043559</td>\n",
              "      <td>0.761579</td>\n",
              "      <td>0.956486</td>\n",
              "      <td>0.411202</td>\n",
              "      <td>-0.846048</td>\n",
              "      <td>-1101.109575</td>\n",
              "      <td>57.895759</td>\n",
              "      <td>-1142.616968</td>\n",
              "      <td>-974.775263</td>\n",
              "      <td>-0.131642</td>\n",
              "      <td>1.339522</td>\n",
              "      <td>1891.182378</td>\n",
              "      <td>16.831508</td>\n",
              "      <td>1861.829208</td>\n",
              "      <td>1921.337196</td>\n",
              "      <td>-0.799171</td>\n",
              "      <td>-0.622409</td>\n",
              "      <td>COMMUNICATE</td>\n",
              "    </tr>\n",
              "  </tbody>\n",
              "</table>\n",
              "<p>5 rows × 314 columns</p>\n",
              "</div>"
            ],
            "text/plain": [
              "   vid_id  score_overall_mean  ...  rightAnkle_y_skew         type\n",
              "0       0            0.924542  ...          -3.138566  COMMUNICATE\n",
              "1       1            0.975678  ...           0.784031  COMMUNICATE\n",
              "2       2            0.969402  ...           0.286643  COMMUNICATE\n",
              "3       3            0.752685  ...          -3.255890  COMMUNICATE\n",
              "4       4            0.969285  ...          -0.622409  COMMUNICATE\n",
              "\n",
              "[5 rows x 314 columns]"
            ]
          },
          "metadata": {
            "tags": []
          },
          "execution_count": 2
        }
      ]
    },
    {
      "cell_type": "code",
      "metadata": {
        "id": "-ttJe5R4wPFd",
        "colab_type": "code",
        "colab": {}
      },
      "source": [
        "assert df.shape[1] == 314"
      ],
      "execution_count": 0,
      "outputs": []
    },
    {
      "cell_type": "code",
      "metadata": {
        "id": "-j6ynd3soMbP",
        "colab_type": "code",
        "outputId": "8a6459cc-77a8-4996-86f8-3218d30556dc",
        "colab": {
          "base_uri": "https://localhost:8080/",
          "height": 34
        }
      },
      "source": [
        "labels = ['buy', 'fun', 'hope', 'really', 'communicate', 'mother']\n",
        "df = df[df['type'].isin(map(str.upper, labels))]\n",
        "df.shape"
      ],
      "execution_count": 4,
      "outputs": [
        {
          "output_type": "execute_result",
          "data": {
            "text/plain": [
              "(415, 314)"
            ]
          },
          "metadata": {
            "tags": []
          },
          "execution_count": 4
        }
      ]
    },
    {
      "cell_type": "code",
      "metadata": {
        "id": "W_yXoB3fZBHl",
        "colab_type": "code",
        "colab": {
          "base_uri": "https://localhost:8080/",
          "height": 34
        },
        "outputId": "55bc9ddf-9e9d-4b37-e8f7-04392be1126c"
      },
      "source": [
        "le = preprocessing.LabelEncoder()\n",
        "# Converting string labels into numbers.\n",
        "labels=le.fit_transform(df['type'])\n",
        "features = df.drop(['type', 'vid_id'], axis = 1)\n",
        "\n",
        "X_train = features\n",
        "y_train = labels\n",
        "le_name_mapping = dict(zip(le.classes_, le.transform(le.classes_)))\n",
        "print(le_name_mapping)"
      ],
      "execution_count": 5,
      "outputs": [
        {
          "output_type": "stream",
          "text": [
            "{'BUY': 0, 'COMMUNICATE': 1, 'FUN': 2, 'HOPE': 3, 'MOTHER': 4, 'REALLY': 5}\n"
          ],
          "name": "stdout"
        }
      ]
    },
    {
      "cell_type": "code",
      "metadata": {
        "id": "a79kPsJ0XzUt",
        "colab_type": "code",
        "colab": {}
      },
      "source": [
        "#feature_list = list(features.columns)\n",
        "# Split the data into training and testing sets\n",
        "#X_train, X_test, y_train, y_test = train_test_split(features, labels, test_size = 0.2, random_state = 1, stratify=labels, shuffle=True)"
      ],
      "execution_count": 0,
      "outputs": []
    },
    {
      "cell_type": "code",
      "metadata": {
        "id": "XyxWuZB1YR_B",
        "colab_type": "code",
        "outputId": "b5ad38b4-f1ac-4ed8-f1e8-a5688fa7d4ba",
        "colab": {
          "base_uri": "https://localhost:8080/",
          "height": 52
        }
      },
      "source": [
        "print('Training Features Shape:', X_train.shape)\n",
        "print('Training Labels Shape:', y_train.shape)\n",
        "#print('Testing Features Shape:', X_test.shape)\n",
        "#print('Testing Labels Shape:', y_test.shape)"
      ],
      "execution_count": 7,
      "outputs": [
        {
          "output_type": "stream",
          "text": [
            "Training Features Shape: (415, 312)\n",
            "Training Labels Shape: (415,)\n"
          ],
          "name": "stdout"
        }
      ]
    },
    {
      "cell_type": "markdown",
      "metadata": {
        "id": "peocKj-XPwct",
        "colab_type": "text"
      },
      "source": [
        "## Feature Selection"
      ]
    },
    {
      "cell_type": "code",
      "metadata": {
        "id": "bu5OkD1aPv1_",
        "colab_type": "code",
        "colab": {
          "base_uri": "https://localhost:8080/",
          "height": 34
        },
        "outputId": "acde739f-6e3c-410c-ce0d-b2b673e242a1"
      },
      "source": [
        "clf = ExtraTreesClassifier(n_estimators=50)\n",
        "clf = clf.fit(X_train, y_train)\n",
        "\n",
        "model = SelectFromModel(clf, prefit=True)\n",
        "X_train_dr = model.transform(X_train)\n",
        "#X_test_dr = model.transform(X_test)\n",
        "\n",
        "dump(model, 'feat_selection.joblib')\n",
        "print(f'New shape : {X_train_dr.shape}')"
      ],
      "execution_count": 9,
      "outputs": [
        {
          "output_type": "stream",
          "text": [
            "New shape : (415, 96)\n"
          ],
          "name": "stdout"
        }
      ]
    },
    {
      "cell_type": "code",
      "metadata": {
        "id": "umuQAbjk2uKc",
        "colab_type": "code",
        "colab": {}
      },
      "source": [
        "scoring = ['accuracy']"
      ],
      "execution_count": 0,
      "outputs": []
    },
    {
      "cell_type": "code",
      "metadata": {
        "id": "0axDS33rxt71",
        "colab_type": "code",
        "outputId": "8dbc8885-9c7d-4c52-cfba-719bf95e2d5a",
        "colab": {
          "base_uri": "https://localhost:8080/",
          "height": 34
        }
      },
      "source": [
        "rf_clf = RandomForestClassifier(n_estimators=50, random_state=12)\n",
        "scores = cross_validate(rf_clf, X_train_dr, y_train, cv=5, scoring=scoring)\n",
        "scores['test_accuracy']"
      ],
      "execution_count": 11,
      "outputs": [
        {
          "output_type": "execute_result",
          "data": {
            "text/plain": [
              "array([0.75294118, 0.75903614, 0.79518072, 0.84146341, 0.79268293])"
            ]
          },
          "metadata": {
            "tags": []
          },
          "execution_count": 11
        }
      ]
    },
    {
      "cell_type": "code",
      "metadata": {
        "id": "XC8cLLdsBXTU",
        "colab_type": "code",
        "outputId": "c1c05c9c-9ffc-49be-9cd1-e1158315d499",
        "colab": {
          "base_uri": "https://localhost:8080/",
          "height": 208
        }
      },
      "source": [
        "lr_clf = LogisticRegression(solver='lbfgs', multi_class='multinomial', max_iter=1000)\n",
        "scores = cross_validate(lr_clf, X_train_dr, y_train, cv=5, scoring=scoring)\n",
        "scores['test_accuracy']"
      ],
      "execution_count": 12,
      "outputs": [
        {
          "output_type": "stream",
          "text": [
            "/usr/local/lib/python3.6/dist-packages/sklearn/linear_model/logistic.py:947: ConvergenceWarning: lbfgs failed to converge. Increase the number of iterations.\n",
            "  \"of iterations.\", ConvergenceWarning)\n",
            "/usr/local/lib/python3.6/dist-packages/sklearn/linear_model/logistic.py:947: ConvergenceWarning: lbfgs failed to converge. Increase the number of iterations.\n",
            "  \"of iterations.\", ConvergenceWarning)\n",
            "/usr/local/lib/python3.6/dist-packages/sklearn/linear_model/logistic.py:947: ConvergenceWarning: lbfgs failed to converge. Increase the number of iterations.\n",
            "  \"of iterations.\", ConvergenceWarning)\n",
            "/usr/local/lib/python3.6/dist-packages/sklearn/linear_model/logistic.py:947: ConvergenceWarning: lbfgs failed to converge. Increase the number of iterations.\n",
            "  \"of iterations.\", ConvergenceWarning)\n",
            "/usr/local/lib/python3.6/dist-packages/sklearn/linear_model/logistic.py:947: ConvergenceWarning: lbfgs failed to converge. Increase the number of iterations.\n",
            "  \"of iterations.\", ConvergenceWarning)\n"
          ],
          "name": "stderr"
        },
        {
          "output_type": "execute_result",
          "data": {
            "text/plain": [
              "array([0.83529412, 0.81927711, 0.8313253 , 0.81707317, 0.85365854])"
            ]
          },
          "metadata": {
            "tags": []
          },
          "execution_count": 12
        }
      ]
    },
    {
      "cell_type": "code",
      "metadata": {
        "id": "nKxYIM53x5g2",
        "colab_type": "code",
        "colab": {
          "base_uri": "https://localhost:8080/",
          "height": 34
        },
        "outputId": "eb880348-fcb3-43a3-cbd4-747d414563b2"
      },
      "source": [
        "gbm_clf = GradientBoostingClassifier(random_state=12)\n",
        "scores = cross_validate(gbm_clf, X_train_dr, y_train, cv=5, scoring=scoring)\n",
        "scores['test_accuracy']"
      ],
      "execution_count": 13,
      "outputs": [
        {
          "output_type": "execute_result",
          "data": {
            "text/plain": [
              "array([0.70588235, 0.78313253, 0.79518072, 0.7804878 , 0.81707317])"
            ]
          },
          "metadata": {
            "tags": []
          },
          "execution_count": 13
        }
      ]
    },
    {
      "cell_type": "code",
      "metadata": {
        "id": "bPUsnqA2Cd82",
        "colab_type": "code",
        "outputId": "ed4b65b9-48a6-4ce0-c31b-ee7c4a3664fd",
        "colab": {
          "base_uri": "https://localhost:8080/",
          "height": 34
        }
      },
      "source": [
        "clf1 = LinearDiscriminantAnalysis(solver='lsqr', shrinkage='auto')\n",
        "clf2 = ExtraTreesClassifier(n_estimators=100, random_state=17)\n",
        "clf3 = LogisticRegression(solver='newton-cg', multi_class='multinomial', penalty='none', max_iter=200)#SVC(gamma='scale', kernel='rbf', probability=True)\n",
        "eclf = VotingClassifier(estimators=[('dt', clf1), ('knn', clf2), ('svc', clf3)],\n",
        "                        voting='soft', weights=[3, 2, 2])\n",
        "scores = cross_validate(eclf, X_train_dr, y_train, cv=5, scoring=scoring)\n",
        "scores['test_accuracy']\n"
      ],
      "execution_count": 14,
      "outputs": [
        {
          "output_type": "execute_result",
          "data": {
            "text/plain": [
              "array([0.83529412, 0.85542169, 0.87951807, 0.86585366, 0.90243902])"
            ]
          },
          "metadata": {
            "tags": []
          },
          "execution_count": 14
        }
      ]
    },
    {
      "cell_type": "code",
      "metadata": {
        "colab_type": "code",
        "outputId": "bba1b6e1-dda5-4be6-ff7a-9fa18f2d55a1",
        "id": "3hlfSyynRHIu",
        "colab": {
          "base_uri": "https://localhost:8080/",
          "height": 121
        }
      },
      "source": [
        "clfs = {'rf_clf' : rf_clf,\n",
        "        'xgb_clf' : gbm_clf,\n",
        "        'lr_clf' : lr_clf,\n",
        "        'vot_clf' : eclf\n",
        "        }\n",
        "\n",
        "for clf_name in clfs:\n",
        "    print(f'Fitting {clf_name}')\n",
        "    clfs[clf_name].fit(X_train_dr, y_train)\n",
        "    #score = clfs[clf_name].score(X_test_dr, y_test)\n",
        "    #print(f'Test accuracy : {score:.3f}')\n",
        "    dump(clfs[clf_name], f'{clf_name}.joblib') "
      ],
      "execution_count": 16,
      "outputs": [
        {
          "output_type": "stream",
          "text": [
            "Fitting rf_clf\n",
            "Fitting xgb_clf\n",
            "Fitting lr_clf\n"
          ],
          "name": "stdout"
        },
        {
          "output_type": "stream",
          "text": [
            "/usr/local/lib/python3.6/dist-packages/sklearn/linear_model/logistic.py:947: ConvergenceWarning: lbfgs failed to converge. Increase the number of iterations.\n",
            "  \"of iterations.\", ConvergenceWarning)\n"
          ],
          "name": "stderr"
        },
        {
          "output_type": "stream",
          "text": [
            "Fitting vot_clf\n"
          ],
          "name": "stdout"
        }
      ]
    },
    {
      "cell_type": "code",
      "metadata": {
        "id": "snCM5Dh3RLj2",
        "colab_type": "code",
        "colab": {}
      },
      "source": [
        ""
      ],
      "execution_count": 0,
      "outputs": []
    }
  ]
}