{
 "cells": [
  {
   "cell_type": "code",
   "execution_count": 1,
   "metadata": {},
   "outputs": [],
   "source": [
    "import pandas as pd\n",
    "import glob"
   ]
  },
  {
   "cell_type": "code",
   "execution_count": 2,
   "metadata": {},
   "outputs": [],
   "source": [
    "def merge_all(action):\n",
    "    li = []\n",
    "    all_files = glob.glob(path + action + \"/*.csv\")\n",
    "\n",
    "    for filename in all_files:\n",
    "        df = pd.read_csv(filename, index_col=None, header=0)\n",
    "        \n",
    "        x_columns = [x for x in df.columns if '_x' in x]\n",
    "        x_shift = df[[\"rightShoulder_x\", \"leftShoulder_x\"]].sum(axis=1)/2\n",
    "        for col in x_columns:\n",
    "            df[col] = df[col] - x_shift\n",
    "            \n",
    "        y_columns = [y for y in df.columns if '_y' in y]\n",
    "        y_shift = df[[\"rightShoulder_y\", \"leftShoulder_y\", \"leftHip_y\", \"rightHip_y\"]].sum(axis=1)/4\n",
    "        for col in x_columns:\n",
    "            df[col] = df[col] - y_shift\n",
    "        \n",
    "        li.append(df)\n",
    "\n",
    "    frame = pd.concat(li, axis=0, ignore_index=True)\n",
    "    frame.to_csv(f'{action}.csv', index=False)"
   ]
  },
  {
   "cell_type": "code",
   "execution_count": 3,
   "metadata": {},
   "outputs": [],
   "source": [
    "path = 'src/data/'\n",
    "actions = ['buy', 'communicate', 'fun', 'hope', 'mother', 'really']\n",
    "for action in actions:\n",
    "    merge_all(action)"
   ]
  },
  {
   "cell_type": "code",
   "execution_count": 4,
   "metadata": {},
   "outputs": [],
   "source": [
    "def merge_all_actions():\n",
    "    li = []\n",
    "    all_files = glob.glob(\"*.csv\")\n",
    "\n",
    "    for filename in all_files:\n",
    "        df = pd.read_csv(filename, index_col=None, header=0)\n",
    "        action = filename.split('.csv')[0]\n",
    "        df['type'] = action.upper()\n",
    "        li.append(df)\n",
    "\n",
    "    frame = pd.concat(li, axis=0, ignore_index=True)\n",
    "    frame.to_csv('good_data.csv', index=False)\n",
    "\n",
    "merge_all_actions()"
   ]
  },
  {
   "cell_type": "code",
   "execution_count": null,
   "metadata": {},
   "outputs": [],
   "source": []
  }
 ],
 "metadata": {
  "kernelspec": {
   "display_name": "Python 3",
   "language": "python",
   "name": "python3"
  },
  "language_info": {
   "codemirror_mode": {
    "name": "ipython",
    "version": 3
   },
   "file_extension": ".py",
   "mimetype": "text/x-python",
   "name": "python",
   "nbconvert_exporter": "python",
   "pygments_lexer": "ipython3",
   "version": "3.7.5"
  }
 },
 "nbformat": 4,
 "nbformat_minor": 2
}
